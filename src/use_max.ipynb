{
 "cells": [
  {
   "cell_type": "code",
   "execution_count": null,
   "metadata": {},
   "outputs": [],
   "source": [
    "import numpy as np\n",
    "import pandas as pd\n",
    "from dataclasses import asdict\n",
    "\n",
    "from use_max import max_value_of_function"
   ]
  },
  {
   "cell_type": "markdown",
   "metadata": {},
   "source": [
    "## Finding the maximum of a quadratic using Quantum max-finding\n",
    "\n",
    "We demonstrate using the qubrabench `max` function by using it to find the maximum of the following quadratic\n",
    "$$f(x) = 4 x - x^2$$"
   ]
  },
  {
   "cell_type": "code",
   "execution_count": null,
   "metadata": {},
   "outputs": [],
   "source": [
    "def quadratic(x: float):\n",
    "    return 4 * x - x**2"
   ]
  },
  {
   "cell_type": "code",
   "execution_count": null,
   "metadata": {},
   "outputs": [],
   "source": [
    "%psource max_value_of_function"
   ]
  },
  {
   "cell_type": "code",
   "execution_count": null,
   "metadata": {},
   "outputs": [],
   "source": [
    "# Find `x` that maximizes the above quadratic, in range [-10, 10]\n",
    "x_best, stats = max_value_of_function(np.linspace(-10, 10, num=1000), quadratic)\n",
    "x_best"
   ]
  },
  {
   "cell_type": "markdown",
   "metadata": {},
   "source": [
    "We can aggregate the costs of the quantum algorithm by combining the classical and quantum query counts with an appropriate \"scaling factor\". In this example, we assume that each quantum query is _twice_ as expensive as a classical one."
   ]
  },
  {
   "cell_type": "code",
   "execution_count": null,
   "metadata": {},
   "outputs": [],
   "source": [
    "cq = 2  # multiplier for quantum queries\n",
    "classical_cost = stats.classical_actual_queries\n",
    "quantum_cost = (\n",
    "    stats.quantum_expected_classical_queries\n",
    "    + cq * stats.quantum_expected_quantum_queries\n",
    ")"
   ]
  },
  {
   "cell_type": "code",
   "execution_count": null,
   "metadata": {},
   "outputs": [],
   "source": [
    "classical_cost, quantum_cost"
   ]
  },
  {
   "cell_type": "markdown",
   "metadata": {},
   "source": [
    "## Benchmarking\n",
    "We can now benchmark the max-finding for increasingly large search spaces. We vary the number of samples from $2^4$ till $2^{18}$, in the range $[-10, 10]$.\n",
    "\n",
    "We collect all this data into a pandas DataFrame."
   ]
  },
  {
   "cell_type": "code",
   "execution_count": null,
   "metadata": {},
   "outputs": [],
   "source": [
    "data = []\n",
    "for pwr in range(4, 19):\n",
    "    for _ in range(2): # repeat twice\n",
    "        # search over 2**pwr uniformly distributed values in [-10, 10]\n",
    "        n_samples = 2**pwr\n",
    "        x_best, stats = max_value_of_function(np.linspace(-10, 10, num=n_samples), quadratic)\n",
    "    \n",
    "        # process stats\n",
    "        stats = asdict(stats)\n",
    "        stats[\"n\"] = n_samples\n",
    "        data.append(stats)\n",
    "data = pd.DataFrame([list(row.values()) for row in data], columns=list(data[0].keys()))\n",
    "data"
   ]
  },
  {
   "cell_type": "code",
   "execution_count": null,
   "metadata": {},
   "outputs": [],
   "source": [
    "from qubrabench.utils.plotting_strategy import PlottingStrategy"
   ]
  },
  {
   "cell_type": "code",
   "execution_count": null,
   "metadata": {},
   "outputs": [],
   "source": [
    "%pdoc PlottingStrategy"
   ]
  },
  {
   "cell_type": "code",
   "execution_count": null,
   "metadata": {},
   "outputs": [],
   "source": [
    "class Plotter(PlottingStrategy):\n",
    "    def __init__(self):\n",
    "        self.colors[\"\"] = \"blue\"\n",
    "\n",
    "    def get_plot_group_column_names(self):\n",
    "        return []\n",
    "\n",
    "    def get_data_group_column_names(self):\n",
    "        return []\n",
    "\n",
    "    def compute_aggregates(self, data, *, quantum_factor):\n",
    "        # compute combined query costs of quantum search\n",
    "        c = data[\"quantum_expected_classical_queries\"]\n",
    "        q = data[\"quantum_expected_quantum_queries\"]\n",
    "        data[\"classical_cost\"] = data[\"classical_actual_queries\"]\n",
    "        data[\"quantum_cost\"] = c + quantum_factor * q\n",
    "        return data\n",
    "\n",
    "    def x_axis_column(self):\n",
    "        return \"n\"\n",
    "\n",
    "    def x_axis_label(self):\n",
    "        return \"$n$\"\n",
    "\n",
    "    def y_axis_label(self):\n",
    "        return \"Queries\"\n",
    "\n",
    "    def get_column_names_to_plot(self):\n",
    "        return {\n",
    "            \"classical_cost\": (\"Classical Queries\", \"o\"),\n",
    "            \"quantum_cost\": (\"Quantum Queries\", \"x\"),\n",
    "        }"
   ]
  },
  {
   "cell_type": "code",
   "execution_count": null,
   "metadata": {},
   "outputs": [],
   "source": [
    "Plotter().plot(data, quantum_factor=2)"
   ]
  }
 ],
 "metadata": {
  "kernelspec": {
   "display_name": "python3",
   "language": "python",
   "name": "python3"
  }
 },
 "nbformat": 4,
 "nbformat_minor": 4
}
